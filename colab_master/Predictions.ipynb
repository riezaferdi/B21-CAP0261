{
  "nbformat": 4,
  "nbformat_minor": 0,
  "metadata": {
    "colab": {
      "name": "Predictions.ipynb",
      "provenance": [],
      "authorship_tag": "ABX9TyOWnrmYbC06nj9Sau44hvfC",
      "include_colab_link": true
    },
    "kernelspec": {
      "name": "python3",
      "display_name": "Python 3"
    },
    "language_info": {
      "name": "python"
    }
  },
  "cells": [
    {
      "cell_type": "markdown",
      "metadata": {
        "id": "view-in-github",
        "colab_type": "text"
      },
      "source": [
        "<a href=\"https://colab.research.google.com/github/riezaferdi/B21-CAP0261/blob/main/colab_master/Predictions.ipynb\" target=\"_parent\"><img src=\"https://colab.research.google.com/assets/colab-badge.svg\" alt=\"Open In Colab\"/></a>"
      ]
    },
    {
      "cell_type": "markdown",
      "metadata": {
        "id": "Crc9wGbVVWln"
      },
      "source": [
        "# Using input from model"
      ]
    },
    {
      "cell_type": "code",
      "metadata": {
        "id": "HGAblMPUU3KE"
      },
      "source": [
        "import numpy as np\n",
        "\n",
        "# Load the TFLite model and allocate tensors.\n",
        "interpreter = tf.lite.Interpreter(model_path=\"./model.tflite\")\n",
        "interpreter.allocate_tensors()\n",
        "\n",
        "# Get input and output tensors.\n",
        "input_details = interpreter.get_input_details()\n",
        "output_details = interpreter.get_output_details()\n",
        "\n",
        "# Test the model on random input data.\n",
        "input_shape = input_details[0]['shape']\n",
        "ran = np.random.random_sample(input_shape)\n",
        "input_data = np.array(ran, dtype=np.float32)\n",
        "interpreter.set_tensor(input_details[0]['index'], input_data)\n",
        "\n",
        "interpreter.invoke()\n",
        "\n",
        "# The function `get_tensor()` returns a copy of the tensor data.\n",
        "# Use `tensor()` in order to get a pointer to the tensor.\n",
        "output_data = interpreter.get_tensor(output_details[0]['index'])\n",
        "print(output_data)\n",
        "predict_data = output_data\n",
        "print(output_data.sort())\n",
        "print(output_data)\n",
        "\n",
        "if (output_data[0][3]==predict_data[0][0]):\n",
        "  print(\"It is Health\")\n",
        "elif (output_data[0][3]==predict_data[0][1]):\n",
        "  print(\"It is Virus S\")\n",
        "elif (output_data[0][3]==predict_data[0][2]):\n",
        "  print(\"It is Virus X\")\n",
        "elif (output_data[0][3]==predict_data[0][3]):\n",
        "  print(\"It is Virus Y\")\n",
        "else :\n",
        "  print(\"It is None\")"
      ],
      "execution_count": null,
      "outputs": []
    },
    {
      "cell_type": "markdown",
      "metadata": {
        "id": "ejn2St7ZVXqo"
      },
      "source": [
        "# Using input from user"
      ]
    },
    {
      "cell_type": "code",
      "metadata": {
        "id": "S28GPs9XVTvm"
      },
      "source": [
        "import numpy as np\n",
        "import cv2\n",
        "\n",
        "# Load the TFLite model and allocate tensors.\n",
        "interpreter = tf.lite.Interpreter(model_path=\"./model.tflite\")\n",
        "interpreter.allocate_tensors()\n",
        "\n",
        "# Get input and output tensors.\n",
        "input_details = interpreter.get_input_details()\n",
        "output_details = interpreter.get_output_details()\n",
        "\n",
        "\n",
        "# lectura y procesamiento de imagen\n",
        "img = cv2.imread(\"./img2.jpeg\")\n",
        "new_img = cv2.resize(img, (150, 150))\n",
        "new_img = new_img.astype(np.float32)\n",
        "new_img /= 255.\n",
        "\n",
        "# Test the model on random input data.\n",
        "interpreter.set_tensor(input_details[0]['index'], [new_img])\n",
        "\n",
        "interpreter.invoke()\n",
        "\n",
        "# The function `get_tensor()` returns a copy of the tensor data.\n",
        "# Use `tensor()` in order to get a pointer to the tensor.\n",
        "output_data = interpreter.get_tensor(output_details[0]['index'])\n",
        "print(output_data)\n",
        "predict_data = output_data\n",
        "print(output_data.sort())\n",
        "print(output_data)\n",
        "\n",
        "if (output_data[0][3]==predict_data[0][0]):\n",
        "  print(\"It is Health\")\n",
        "elif (output_data[0][3]==predict_data[0][1]):\n",
        "  print(\"It is Virus S\")\n",
        "elif (output_data[0][3]==predict_data[0][2]):\n",
        "  print(\"It is Virus X\")\n",
        "elif (output_data[0][3]==predict_data[0][3]):\n",
        "  print(\"It is Virus Y\")\n",
        "else :\n",
        "  print(\"It is None\")"
      ],
      "execution_count": null,
      "outputs": []
    }
  ]
}