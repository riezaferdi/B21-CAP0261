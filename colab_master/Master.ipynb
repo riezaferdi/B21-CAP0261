{
  "nbformat": 4,
  "nbformat_minor": 0,
  "metadata": {
    "colab": {
      "name": "Master.ipynb",
      "provenance": [],
      "collapsed_sections": [],
      "toc_visible": true,
      "mount_file_id": "1MkDKrsVET7JrTzgZjk1Beb6YuyXgKAw4",
      "authorship_tag": "ABX9TyPpS4b2jYB1Hn30dzyH3pJ1",
      "include_colab_link": true
    },
    "kernelspec": {
      "name": "python3",
      "display_name": "Python 3"
    },
    "language_info": {
      "name": "python"
    }
  },
  "cells": [
    {
      "cell_type": "markdown",
      "metadata": {
        "id": "view-in-github",
        "colab_type": "text"
      },
      "source": [
        "<a href=\"https://colab.research.google.com/github/riezaferdi/B21-CAP0261/blob/main/colab_master/Master.ipynb\" target=\"_parent\"><img src=\"https://colab.research.google.com/assets/colab-badge.svg\" alt=\"Open In Colab\"/></a>"
      ]
    },
    {
      "cell_type": "code",
      "metadata": {
        "id": "-lJ-bB6BB8BC",
        "colab": {
          "base_uri": "https://localhost:8080/"
        },
        "outputId": "b1d639ba-4112-411c-e275-6cf53d931648"
      },
      "source": [
        "import tensorflow\n",
        "print(tensorflow.__version__)"
      ],
      "execution_count": 1,
      "outputs": [
        {
          "output_type": "stream",
          "text": [
            "2.5.0\n"
          ],
          "name": "stdout"
        }
      ]
    },
    {
      "cell_type": "markdown",
      "metadata": {
        "id": "uB25pzDlHJNi"
      },
      "source": [
        "# Import"
      ]
    },
    {
      "cell_type": "code",
      "metadata": {
        "id": "3V5e1Ctq1z9k"
      },
      "source": [
        "import os\n",
        "import zipfile\n",
        "import random\n",
        "import tensorflow as tf\n",
        "import pathlib\n",
        "from tensorflow.keras.optimizers import RMSprop\n",
        "from tensorflow.keras.preprocessing.image import ImageDataGenerator\n",
        "from shutil import copyfile\n",
        "import shutil"
      ],
      "execution_count": 2,
      "outputs": []
    },
    {
      "cell_type": "markdown",
      "metadata": {
        "id": "mdIU0r8Izokv"
      },
      "source": [
        "# For clearing folder if necessary"
      ]
    },
    {
      "cell_type": "code",
      "metadata": {
        "id": "T2C_krBG7K2e"
      },
      "source": [
        "#USE THIS BLOCK CODE IF NECESSARY\n",
        "try:\n",
        "  shutil.rmtree('/tmp/dataset_hsxy/')\n",
        "  shutil.rmtree('/tmp/dataset_hsxy_splitted/')\n",
        "except OSError:\n",
        "    pass"
      ],
      "execution_count": 3,
      "outputs": []
    },
    {
      "cell_type": "markdown",
      "metadata": {
        "id": "1fY1VbrAz1xU"
      },
      "source": [
        "# Pre processing"
      ]
    },
    {
      "cell_type": "code",
      "metadata": {
        "id": "j52iolm7149l"
      },
      "source": [
        "#!wget --no-check-certificate \\\n",
        "#    \"https://drive.google.com/file/d/1xqW25CtUd_Li8yeirRiIhMuWUuUr1Aj4/view\" \\\n",
        "#    -O \"/tmp/dataset-hsxy.zip\"\n",
        "\n",
        "#local_zip = '/tmp/dataset-hsxy.zip'\n",
        "local_zip = '/content/drive/MyDrive/dataset_hsxy.zip'\n",
        "zip_ref   = zipfile.ZipFile(local_zip, 'r')\n",
        "zip_ref.extractall('/tmp')\n",
        "zip_ref.close()"
      ],
      "execution_count": 4,
      "outputs": []
    },
    {
      "cell_type": "code",
      "metadata": {
        "colab": {
          "base_uri": "https://localhost:8080/"
        },
        "id": "-ismqPEu19L1",
        "outputId": "1ed3e2dc-0ecd-43d4-8465-76711769e2ac"
      },
      "source": [
        "print(len(os.listdir('/tmp/dataset_hsxy/health/')))\n",
        "print(len(os.listdir('/tmp/dataset_hsxy/s/')))\n",
        "print(len(os.listdir('/tmp/dataset_hsxy/x/')))\n",
        "print(len(os.listdir('/tmp/dataset_hsxy/y/')))\n",
        "\n",
        "# Expected Output:\n",
        "# 12501\n",
        "# 12501"
      ],
      "execution_count": 5,
      "outputs": [
        {
          "output_type": "stream",
          "text": [
            "100\n",
            "7\n",
            "12\n",
            "14\n"
          ],
          "name": "stdout"
        }
      ]
    },
    {
      "cell_type": "code",
      "metadata": {
        "id": "bxj9GBkx2BMf"
      },
      "source": [
        "try:\n",
        "    #os.mkdir('/tmp/dataset_hsxy')\n",
        "    os.mkdir('/tmp/dataset_hsxy/training')\n",
        "    os.mkdir('/tmp/dataset_hsxy/testing')\n",
        "    os.mkdir('/tmp/dataset_hsxy/training/health')\n",
        "    os.mkdir('/tmp/dataset_hsxy/training/s')\n",
        "    os.mkdir('/tmp/dataset_hsxy/training/x')\n",
        "    os.mkdir('/tmp/dataset_hsxy/training/y')\n",
        "    os.mkdir('/tmp/dataset_hsxy/testing/health')\n",
        "    os.mkdir('/tmp/dataset_hsxy/testing/s')\n",
        "    os.mkdir('/tmp/dataset_hsxy/testing/x')\n",
        "    os.mkdir('/tmp/dataset_hsxy/testing/y')\n",
        "except OSError:\n",
        "    pass"
      ],
      "execution_count": 6,
      "outputs": []
    },
    {
      "cell_type": "code",
      "metadata": {
        "id": "YkhRK3lm2CV-"
      },
      "source": [
        "def split_data(SOURCE, TRAINING, TESTING, SPLIT_SIZE):\n",
        "    files = []\n",
        "    for filename in os.listdir(SOURCE):\n",
        "        file = SOURCE + filename\n",
        "        if os.path.getsize(file) > 0:\n",
        "            files.append(filename)\n",
        "        else:\n",
        "            print(filename + \" is zero length, so ignoring.\")\n",
        "\n",
        "    training_length = int(len(files) * SPLIT_SIZE)\n",
        "    testing_length = int(len(files) - training_length)\n",
        "    shuffled_set = random.sample(files, len(files))\n",
        "    training_set = shuffled_set[0:training_length]\n",
        "    testing_set = shuffled_set[:testing_length]\n",
        "\n",
        "    for filename in training_set:\n",
        "        this_file = SOURCE + filename\n",
        "        destination = TRAINING + filename\n",
        "        copyfile(this_file, destination)\n",
        "\n",
        "    for filename in testing_set:\n",
        "        this_file = SOURCE + filename\n",
        "        destination = TESTING + filename\n",
        "        copyfile(this_file, destination)\n",
        "\n",
        "\n",
        "HEALTH_SOURCE_DIR = \"/tmp/dataset_hsxy/health/\"\n",
        "TRAINING_HEALTH_DIR = \"/tmp/dataset_hsxy/training/health/\"\n",
        "TESTING_HEALTH_DIR = \"/tmp/dataset_hsxy/testing/health/\"\n",
        "S_SOURCE_DIR = \"/tmp/dataset_hsxy/s/\"\n",
        "TRAINING_S_DIR = \"/tmp/dataset_hsxy/training/s/\"\n",
        "TESTING_S_DIR = \"/tmp/dataset_hsxy/testing/s/\"\n",
        "X_SOURCE_DIR = \"/tmp/dataset_hsxy/x/\"\n",
        "TRAINING_X_DIR = \"/tmp/dataset_hsxy/training/x/\"\n",
        "TESTING_X_DIR = \"/tmp/dataset_hsxy/testing/x/\"\n",
        "Y_SOURCE_DIR = \"/tmp/dataset_hsxy/y/\"\n",
        "TRAINING_Y_DIR = \"/tmp/dataset_hsxy/training/y/\"\n",
        "TESTING_Y_DIR = \"/tmp/dataset_hsxy/testing/y/\"\n",
        "\n",
        "split_size = .8\n",
        "split_data(HEALTH_SOURCE_DIR, TRAINING_HEALTH_DIR, TESTING_HEALTH_DIR, split_size)\n",
        "split_data(S_SOURCE_DIR, TRAINING_S_DIR, TESTING_S_DIR, split_size)\n",
        "split_data(X_SOURCE_DIR, TRAINING_X_DIR, TESTING_X_DIR, split_size)\n",
        "split_data(Y_SOURCE_DIR, TRAINING_Y_DIR, TESTING_Y_DIR, split_size)"
      ],
      "execution_count": 7,
      "outputs": []
    },
    {
      "cell_type": "code",
      "metadata": {
        "colab": {
          "base_uri": "https://localhost:8080/"
        },
        "id": "zYnm2NoE2LFP",
        "outputId": "4e1e353b-1c12-4524-9235-9b03a69e567d"
      },
      "source": [
        "print(len(os.listdir('/tmp/dataset_hsxy/training/health/')))\n",
        "print(len(os.listdir('/tmp/dataset_hsxy/training/s/')))\n",
        "print(len(os.listdir('/tmp/dataset_hsxy/training/x/')))\n",
        "print(len(os.listdir('/tmp/dataset_hsxy/training/y/')))\n",
        "print(len(os.listdir('/tmp/dataset_hsxy/testing/health/')))\n",
        "print(len(os.listdir('/tmp/dataset_hsxy/testing/s/')))\n",
        "print(len(os.listdir('/tmp/dataset_hsxy/testing/x/')))\n",
        "print(len(os.listdir('/tmp/dataset_hsxy/testing/y/')))"
      ],
      "execution_count": 8,
      "outputs": [
        {
          "output_type": "stream",
          "text": [
            "80\n",
            "5\n",
            "9\n",
            "11\n",
            "20\n",
            "2\n",
            "3\n",
            "3\n"
          ],
          "name": "stdout"
        }
      ]
    },
    {
      "cell_type": "markdown",
      "metadata": {
        "id": "MoSfVzCgHZEH"
      },
      "source": [
        "# Augmentation"
      ]
    },
    {
      "cell_type": "code",
      "metadata": {
        "id": "PW77-HJB2ryU",
        "colab": {
          "base_uri": "https://localhost:8080/"
        },
        "outputId": "ec4258ac-8656-4226-b755-fc46ce98edae"
      },
      "source": [
        "TRAINING_DIR = \"/tmp/dataset_hsxy/training/\"\n",
        "\n",
        "train_datagen = ImageDataGenerator(rescale=1./255,\n",
        "      rotation_range=40,\n",
        "      width_shift_range=0.2,\n",
        "      height_shift_range=0.2,\n",
        "      shear_range=0.2,\n",
        "      zoom_range=0.2,\n",
        "      horizontal_flip=True,\n",
        "      fill_mode='nearest')\n",
        "train_generator = train_datagen.flow_from_directory(TRAINING_DIR,\n",
        "                                                    batch_size=100,\n",
        "                                                    class_mode='sparse',\n",
        "                                                    target_size=(150, 150))\n",
        "\n",
        "VALIDATION_DIR = \"/tmp/dataset_hsxy/testing/\"\n",
        "\n",
        "validation_datagen = ImageDataGenerator(rescale=1./255)\n",
        "validation_generator = validation_datagen.flow_from_directory(VALIDATION_DIR,\n",
        "                                                              batch_size=100,\n",
        "                                                              class_mode='sparse',\n",
        "                                                              target_size=(150, 150))"
      ],
      "execution_count": 9,
      "outputs": [
        {
          "output_type": "stream",
          "text": [
            "Found 105 images belonging to 4 classes.\n",
            "Found 28 images belonging to 4 classes.\n"
          ],
          "name": "stdout"
        }
      ]
    },
    {
      "cell_type": "markdown",
      "metadata": {
        "id": "Vh3PSgNdHgJX"
      },
      "source": [
        "#  Train"
      ]
    },
    {
      "cell_type": "code",
      "metadata": {
        "id": "g3-xO5g6t_7n"
      },
      "source": [
        "model = tf.keras.Sequential([\n",
        "    tf.keras.layers.Conv2D(64, (3,3), activation='relu', input_shape=(150, 150, 3)),\n",
        "    tf.keras.layers.MaxPooling2D(),\n",
        "    tf.keras.layers.Conv2D(64, (3,3), activation='relu'),\n",
        "    tf.keras.layers.MaxPooling2D(),\n",
        "    tf.keras.layers.Flatten(),\n",
        "    tf.keras.layers.Dense(512, activation='relu'),\n",
        "    tf.keras.layers.Dense(4, activation='softmax')])\n",
        "\n",
        "model.compile(optimizer='adam',\n",
        "              loss='sparse_categorical_crossentropy',\n",
        "              metrics=['accuracy'])"
      ],
      "execution_count": 17,
      "outputs": []
    },
    {
      "cell_type": "code",
      "metadata": {
        "colab": {
          "base_uri": "https://localhost:8080/",
          "height": 1000
        },
        "id": "bwNRxN7OuAEm",
        "outputId": "24d4025d-fad6-41a3-cd4d-9477fb1bc3b6"
      },
      "source": [
        "history = model.fit(train_generator, \n",
        "                    epochs=20, \n",
        "                    validation_data=validation_generator)\n",
        "\n",
        "import matplotlib.pyplot as plt\n",
        "acc = history.history['accuracy']\n",
        "val_acc = history.history['val_accuracy']\n",
        "loss = history.history['loss']\n",
        "val_loss = history.history['val_loss']\n",
        "\n",
        "epochs = range(len(acc))\n",
        "\n",
        "plt.plot(epochs, acc, 'r', label='Training accuracy')\n",
        "plt.plot(epochs, val_acc, 'b', label='Validation accuracy')\n",
        "plt.title('Training and validation accuracy')\n",
        "plt.legend()\n",
        "plt.figure()\n",
        "\n",
        "plt.plot(epochs, loss, 'r', label='Training Loss')\n",
        "plt.plot(epochs, val_loss, 'b', label='Validation Loss')\n",
        "plt.title('Training and validation loss')\n",
        "plt.legend()\n",
        "\n",
        "plt.show()"
      ],
      "execution_count": 11,
      "outputs": [
        {
          "output_type": "stream",
          "text": [
            "Epoch 1/20\n",
            "2/2 [==============================] - 10s 7s/step - loss: 5.4934 - accuracy: 0.7619 - val_loss: 2.1433 - val_accuracy: 0.7143\n",
            "Epoch 2/20\n",
            "2/2 [==============================] - 7s 1s/step - loss: 1.8388 - accuracy: 0.7333 - val_loss: 2.0544 - val_accuracy: 0.1071\n",
            "Epoch 3/20\n",
            "2/2 [==============================] - 7s 1s/step - loss: 1.8218 - accuracy: 0.1333 - val_loss: 0.8690 - val_accuracy: 0.7143\n",
            "Epoch 4/20\n",
            "2/2 [==============================] - 7s 2s/step - loss: 0.7217 - accuracy: 0.7619 - val_loss: 0.9637 - val_accuracy: 0.7143\n",
            "Epoch 5/20\n",
            "2/2 [==============================] - 7s 1s/step - loss: 0.7298 - accuracy: 0.7619 - val_loss: 0.7577 - val_accuracy: 0.7143\n",
            "Epoch 6/20\n",
            "2/2 [==============================] - 7s 6s/step - loss: 0.8310 - accuracy: 0.8190 - val_loss: 0.7258 - val_accuracy: 0.8571\n",
            "Epoch 7/20\n",
            "2/2 [==============================] - 7s 6s/step - loss: 0.5568 - accuracy: 0.8095 - val_loss: 0.7734 - val_accuracy: 0.7143\n",
            "Epoch 8/20\n",
            "2/2 [==============================] - 7s 6s/step - loss: 0.6409 - accuracy: 0.7905 - val_loss: 0.6623 - val_accuracy: 0.7857\n",
            "Epoch 9/20\n",
            "2/2 [==============================] - 7s 6s/step - loss: 0.4837 - accuracy: 0.8095 - val_loss: 0.6203 - val_accuracy: 0.8214\n",
            "Epoch 10/20\n",
            "2/2 [==============================] - 7s 1s/step - loss: 0.5006 - accuracy: 0.8476 - val_loss: 0.5880 - val_accuracy: 0.7857\n",
            "Epoch 11/20\n",
            "2/2 [==============================] - 7s 1s/step - loss: 0.4704 - accuracy: 0.8381 - val_loss: 0.5782 - val_accuracy: 0.7857\n",
            "Epoch 12/20\n",
            "2/2 [==============================] - 7s 1s/step - loss: 0.4345 - accuracy: 0.8476 - val_loss: 0.5223 - val_accuracy: 0.8214\n",
            "Epoch 13/20\n",
            "2/2 [==============================] - 7s 6s/step - loss: 0.5469 - accuracy: 0.8381 - val_loss: 0.5352 - val_accuracy: 0.7857\n",
            "Epoch 14/20\n",
            "2/2 [==============================] - 7s 1s/step - loss: 0.4566 - accuracy: 0.8571 - val_loss: 0.7049 - val_accuracy: 0.8214\n",
            "Epoch 15/20\n",
            "2/2 [==============================] - 7s 6s/step - loss: 0.4087 - accuracy: 0.8667 - val_loss: 0.7565 - val_accuracy: 0.7143\n",
            "Epoch 16/20\n",
            "2/2 [==============================] - 7s 1s/step - loss: 0.5478 - accuracy: 0.8000 - val_loss: 0.4062 - val_accuracy: 0.8214\n",
            "Epoch 17/20\n",
            "2/2 [==============================] - 7s 1s/step - loss: 0.3647 - accuracy: 0.8667 - val_loss: 0.4937 - val_accuracy: 0.8214\n",
            "Epoch 18/20\n",
            "2/2 [==============================] - 7s 6s/step - loss: 0.4252 - accuracy: 0.8667 - val_loss: 0.3705 - val_accuracy: 0.8214\n",
            "Epoch 19/20\n",
            "2/2 [==============================] - 7s 1s/step - loss: 0.3545 - accuracy: 0.8857 - val_loss: 0.4205 - val_accuracy: 0.8571\n",
            "Epoch 20/20\n",
            "2/2 [==============================] - 7s 1s/step - loss: 0.3872 - accuracy: 0.8667 - val_loss: 0.3907 - val_accuracy: 0.8571\n"
          ],
          "name": "stdout"
        },
        {
          "output_type": "display_data",
          "data": {
            "image/png": "[encoded data removed]",
            "text/plain": [
              "<Figure size 432x288 with 1 Axes>"
            ]
          },
          "metadata": {
            "tags": [],
            "needs_background": "light"
          }
        },
        {
          "output_type": "display_data",
          "data": {
            "image/png": "[encoded data removed]",
            "text/plain": [
              "<Figure size 432x288 with 1 Axes>"
            ]
          },
          "metadata": {
            "tags": [],
            "needs_background": "light"
          }
        }
      ]
    },
    {
      "cell_type": "markdown",
      "metadata": {
        "id": "OLE75TX7Hi3H"
      },
      "source": [
        "# Convert to TFLite"
      ]
    },
    {
      "cell_type": "code",
      "metadata": {
        "id": "PJN9XGGSuAOX",
        "colab": {
          "base_uri": "https://localhost:8080/"
        },
        "outputId": "5a384ce4-95df-41d9-bad7-00069f76a135"
      },
      "source": [
        "export_dir = 'saved_model/1'\n",
        "\n",
        "tf.saved_model.save(model, export_dir)"
      ],
      "execution_count": 12,
      "outputs": [
        {
          "output_type": "stream",
          "text": [
            "WARNING:tensorflow:FOR KERAS USERS: The object that you are saving contains one or more Keras models or layers. If you are loading the SavedModel with `tf.keras.models.load_model`, continue reading (otherwise, you may ignore the following instructions). Please change your code to save with `tf.keras.models.save_model` or `model.save`, and confirm that the file \"keras.metadata\" exists in the export directory. In the future, Keras will only load the SavedModels that have this file. In other words, `tf.saved_model.save` will no longer write SavedModels that can be recovered as Keras models (this will apply in TF 2.5).\n",
            "\n",
            "FOR DEVS: If you are overwriting _tracking_metadata in your class, this property has been used to save metadata in the SavedModel. The metadta field will be deprecated soon, so please move the metadata to a different file.\n",
            "INFO:tensorflow:Assets written to: saved_model/1/assets\n"
          ],
          "name": "stdout"
        }
      ]
    },
    {
      "cell_type": "code",
      "metadata": {
        "id": "u-KX_mCK2mrR"
      },
      "source": [
        "mode = \"Speed\" \n",
        "\n",
        "if mode == 'Storage':\n",
        "    optimization = tf.lite.Optimize.OPTIMIZE_FOR_SIZE\n",
        "elif mode == 'Speed':\n",
        "    optimization = tf.lite.Optimize.OPTIMIZE_FOR_LATENCY\n",
        "else:\n",
        "    optimization = tf.lite.Optimize.DEFAULT"
      ],
      "execution_count": 13,
      "outputs": []
    },
    {
      "cell_type": "code",
      "metadata": {
        "id": "Jwte4Bu52m0e"
      },
      "source": [
        "converter = tf.lite.TFLiteConverter.from_saved_model(export_dir)\n",
        "\n",
        "converter.optimizations = [optimization]\n",
        "\n",
        "tflite_model = converter.convert()"
      ],
      "execution_count": 14,
      "outputs": []
    },
    {
      "cell_type": "code",
      "metadata": {
        "colab": {
          "base_uri": "https://localhost:8080/"
        },
        "id": "-Hr5gpqo2m8d",
        "outputId": "c81742f4-f32f-4f53-b5eb-1db44a29d5e4"
      },
      "source": [
        "tflite_model_file = pathlib.Path('./model.tflite')\n",
        "tflite_model_file.write_bytes(tflite_model)"
      ],
      "execution_count": 15,
      "outputs": [
        {
          "output_type": "execute_result",
          "data": {
            "text/plain": [
              "42516656"
            ]
          },
          "metadata": {
            "tags": []
          },
          "execution_count": 15
        }
      ]
    },
    {
      "cell_type": "markdown",
      "metadata": {
        "id": "i5GLojTMI9Wv"
      },
      "source": [
        "# make .txt"
      ]
    },
    {
      "cell_type": "code",
      "metadata": {
        "id": "v6BPpb_7JIAn"
      },
      "source": [
        "f = open(\"./label.txt\",\"w+\")\n",
        "f.write(\"health\\nx\\ny\\ns\")\n",
        "f.close() "
      ],
      "execution_count": 16,
      "outputs": []
    }
  ]
}