{
  "nbformat": 4,
  "nbformat_minor": 0,
  "metadata": {
    "colab": {
      "name": "Master_tfversion1x.ipynb",
      "provenance": [],
      "collapsed_sections": [],
      "toc_visible": true,
      "mount_file_id": "1nWHmV5pPzkCdJW-RGn6qRKzyRJz3_tVo",
      "authorship_tag": "ABX9TyMMxlOpeS33yoFDnXYwj+J/",
      "include_colab_link": true
    },
    "kernelspec": {
      "name": "python3",
      "display_name": "Python 3"
    },
    "language_info": {
      "name": "python"
    }
  },
  "cells": [
    {
      "cell_type": "markdown",
      "metadata": {
        "id": "view-in-github",
        "colab_type": "text"
      },
      "source": [
        "<a href=\"https://colab.research.google.com/github/riezaferdi/B21-CAP0261/blob/main/colab_master/Master_tfversion1x.ipynb\" target=\"_parent\"><img src=\"https://colab.research.google.com/assets/colab-badge.svg\" alt=\"Open In Colab\"/></a>"
      ]
    },
    {
      "cell_type": "code",
      "metadata": {
        "id": "-lJ-bB6BB8BC",
        "colab": {
          "base_uri": "https://localhost:8080/",
          "height": 558
        },
        "outputId": "91f9f90a-e09d-4a25-931e-de22f54db263"
      },
      "source": [
        "%tensorflow_version 1.x\n",
        "\n",
        "import tensorflow\n",
        "print(tensorflow.__version__)\n",
        "\n",
        "!pip install 'h5py==2.10.0' --force-reinstall"
      ],
      "execution_count": 1,
      "outputs": [
        {
          "output_type": "stream",
          "text": [
            "TensorFlow 1.x selected.\n",
            "1.15.2\n",
            "Collecting h5py==2.10.0\n",
            "  Using cached https://files.pythonhosted.org/packages/3f/c0/abde58b837e066bca19a3f7332d9d0493521d7dd6b48248451a9e3fe2214/h5py-2.10.0-cp37-cp37m-manylinux1_x86_64.whl\n",
            "Collecting six\n",
            "  Using cached https://files.pythonhosted.org/packages/d9/5a/e7c31adbe875f2abbb91bd84cf2dc52d792b5a01506781dbcf25c91daf11/six-1.16.0-py2.py3-none-any.whl\n",
            "Collecting numpy>=1.7\n",
            "  Using cached https://files.pythonhosted.org/packages/a5/42/560d269f604d3e186a57c21a363e77e199358d054884e61b73e405dd217c/numpy-1.20.3-cp37-cp37m-manylinux_2_12_x86_64.manylinux2010_x86_64.whl\n",
            "\u001b[31mERROR: lucid 0.3.10 requires umap-learn, which is not installed.\u001b[0m\n",
            "\u001b[31mERROR: tensorflow 1.15.2 has requirement gast==0.2.2, but you'll have gast 0.4.0 which is incompatible.\u001b[0m\n",
            "\u001b[31mERROR: lucid 0.3.10 has requirement numpy<=1.19, but you'll have numpy 1.20.3 which is incompatible.\u001b[0m\n",
            "\u001b[31mERROR: kapre 0.3.5 has requirement tensorflow>=2.0.0, but you'll have tensorflow 1.15.2 which is incompatible.\u001b[0m\n",
            "\u001b[31mERROR: google-colab 1.0.0 has requirement six~=1.15.0, but you'll have six 1.16.0 which is incompatible.\u001b[0m\n",
            "\u001b[31mERROR: datascience 0.10.6 has requirement folium==0.2.1, but you'll have folium 0.8.3 which is incompatible.\u001b[0m\n",
            "\u001b[31mERROR: albumentations 0.1.12 has requirement imgaug<0.2.7,>=0.2.5, but you'll have imgaug 0.2.9 which is incompatible.\u001b[0m\n",
            "Installing collected packages: six, numpy, h5py\n",
            "  Found existing installation: six 1.16.0\n",
            "    Uninstalling six-1.16.0:\n",
            "      Successfully uninstalled six-1.16.0\n",
            "  Found existing installation: numpy 1.20.3\n",
            "    Uninstalling numpy-1.20.3:\n",
            "      Successfully uninstalled numpy-1.20.3\n",
            "  Found existing installation: h5py 2.10.0\n",
            "    Uninstalling h5py-2.10.0:\n",
            "      Successfully uninstalled h5py-2.10.0\n",
            "Successfully installed h5py-2.10.0 numpy-1.20.3 six-1.16.0\n"
          ],
          "name": "stdout"
        },
        {
          "output_type": "display_data",
          "data": {
            "application/vnd.colab-display-data+json": {
              "pip_warning": {
                "packages": [
                  "h5py",
                  "numpy",
                  "six"
                ]
              }
            }
          },
          "metadata": {
            "tags": []
          }
        }
      ]
    },
    {
      "cell_type": "markdown",
      "metadata": {
        "id": "uB25pzDlHJNi"
      },
      "source": [
        "# Import"
      ]
    },
    {
      "cell_type": "code",
      "metadata": {
        "id": "3V5e1Ctq1z9k"
      },
      "source": [
        "import os\n",
        "import zipfile\n",
        "import random\n",
        "import tensorflow as tf\n",
        "import pathlib\n",
        "from tensorflow.keras.optimizers import RMSprop\n",
        "from tensorflow.keras.preprocessing.image import ImageDataGenerator\n",
        "from shutil import copyfile\n",
        "import shutil"
      ],
      "execution_count": 2,
      "outputs": []
    },
    {
      "cell_type": "markdown",
      "metadata": {
        "id": "mdIU0r8Izokv"
      },
      "source": [
        "# For clearing folder if necessary"
      ]
    },
    {
      "cell_type": "code",
      "metadata": {
        "id": "T2C_krBG7K2e"
      },
      "source": [
        "#USE THIS BLOCK CODE IF NECESSARY\n",
        "try:\n",
        "  shutil.rmtree('/tmp/dataset_hsxy/')\n",
        "  shutil.rmtree('/tmp/dataset_hsxy_splitted/')\n",
        "except OSError:\n",
        "    pass"
      ],
      "execution_count": 3,
      "outputs": []
    },
    {
      "cell_type": "markdown",
      "metadata": {
        "id": "1fY1VbrAz1xU"
      },
      "source": [
        "# Pre processing"
      ]
    },
    {
      "cell_type": "code",
      "metadata": {
        "id": "j52iolm7149l"
      },
      "source": [
        "#!wget --no-check-certificate \\\n",
        "#    \"https://drive.google.com/file/d/1xqW25CtUd_Li8yeirRiIhMuWUuUr1Aj4/view\" \\\n",
        "#    -O \"/tmp/dataset-hsxy.zip\"\n",
        "\n",
        "#local_zip = '/tmp/dataset-hsxy.zip'\n",
        "local_zip = '/content/drive/MyDrive/dataset_hsxy.zip'\n",
        "zip_ref   = zipfile.ZipFile(local_zip, 'r')\n",
        "zip_ref.extractall('/tmp')\n",
        "zip_ref.close()"
      ],
      "execution_count": 4,
      "outputs": []
    },
    {
      "cell_type": "code",
      "metadata": {
        "colab": {
          "base_uri": "https://localhost:8080/"
        },
        "id": "-ismqPEu19L1",
        "outputId": "ef45ef76-5411-4538-a149-92408bc66a29"
      },
      "source": [
        "print(len(os.listdir('/tmp/dataset_hsxy/health/')))\n",
        "print(len(os.listdir('/tmp/dataset_hsxy/s/')))\n",
        "print(len(os.listdir('/tmp/dataset_hsxy/x/')))\n",
        "print(len(os.listdir('/tmp/dataset_hsxy/y/')))\n",
        "\n",
        "# Expected Output:\n",
        "# 12501\n",
        "# 12501"
      ],
      "execution_count": 5,
      "outputs": [
        {
          "output_type": "stream",
          "text": [
            "100\n",
            "7\n",
            "12\n",
            "14\n"
          ],
          "name": "stdout"
        }
      ]
    },
    {
      "cell_type": "code",
      "metadata": {
        "id": "bxj9GBkx2BMf"
      },
      "source": [
        "try:\n",
        "    #os.mkdir('/tmp/dataset_hsxy')\n",
        "    os.mkdir('/tmp/dataset_hsxy/training')\n",
        "    os.mkdir('/tmp/dataset_hsxy/testing')\n",
        "    os.mkdir('/tmp/dataset_hsxy/training/health')\n",
        "    os.mkdir('/tmp/dataset_hsxy/training/s')\n",
        "    os.mkdir('/tmp/dataset_hsxy/training/x')\n",
        "    os.mkdir('/tmp/dataset_hsxy/training/y')\n",
        "    os.mkdir('/tmp/dataset_hsxy/testing/health')\n",
        "    os.mkdir('/tmp/dataset_hsxy/testing/s')\n",
        "    os.mkdir('/tmp/dataset_hsxy/testing/x')\n",
        "    os.mkdir('/tmp/dataset_hsxy/testing/y')\n",
        "except OSError:\n",
        "    pass"
      ],
      "execution_count": 6,
      "outputs": []
    },
    {
      "cell_type": "code",
      "metadata": {
        "id": "YkhRK3lm2CV-"
      },
      "source": [
        "def split_data(SOURCE, TRAINING, TESTING, SPLIT_SIZE):\n",
        "    files = []\n",
        "    for filename in os.listdir(SOURCE):\n",
        "        file = SOURCE + filename\n",
        "        if os.path.getsize(file) > 0:\n",
        "            files.append(filename)\n",
        "        else:\n",
        "            print(filename + \" is zero length, so ignoring.\")\n",
        "\n",
        "    training_length = int(len(files) * SPLIT_SIZE)\n",
        "    testing_length = int(len(files) - training_length)\n",
        "    shuffled_set = random.sample(files, len(files))\n",
        "    training_set = shuffled_set[0:training_length]\n",
        "    testing_set = shuffled_set[:testing_length]\n",
        "\n",
        "    for filename in training_set:\n",
        "        this_file = SOURCE + filename\n",
        "        destination = TRAINING + filename\n",
        "        copyfile(this_file, destination)\n",
        "\n",
        "    for filename in testing_set:\n",
        "        this_file = SOURCE + filename\n",
        "        destination = TESTING + filename\n",
        "        copyfile(this_file, destination)\n",
        "\n",
        "\n",
        "HEALTH_SOURCE_DIR = \"/tmp/dataset_hsxy/health/\"\n",
        "TRAINING_HEALTH_DIR = \"/tmp/dataset_hsxy/training/health/\"\n",
        "TESTING_HEALTH_DIR = \"/tmp/dataset_hsxy/testing/health/\"\n",
        "S_SOURCE_DIR = \"/tmp/dataset_hsxy/s/\"\n",
        "TRAINING_S_DIR = \"/tmp/dataset_hsxy/training/s/\"\n",
        "TESTING_S_DIR = \"/tmp/dataset_hsxy/testing/s/\"\n",
        "X_SOURCE_DIR = \"/tmp/dataset_hsxy/x/\"\n",
        "TRAINING_X_DIR = \"/tmp/dataset_hsxy/training/x/\"\n",
        "TESTING_X_DIR = \"/tmp/dataset_hsxy/testing/x/\"\n",
        "Y_SOURCE_DIR = \"/tmp/dataset_hsxy/y/\"\n",
        "TRAINING_Y_DIR = \"/tmp/dataset_hsxy/training/y/\"\n",
        "TESTING_Y_DIR = \"/tmp/dataset_hsxy/testing/y/\"\n",
        "\n",
        "split_size = .8\n",
        "split_data(HEALTH_SOURCE_DIR, TRAINING_HEALTH_DIR, TESTING_HEALTH_DIR, split_size)\n",
        "split_data(S_SOURCE_DIR, TRAINING_S_DIR, TESTING_S_DIR, split_size)\n",
        "split_data(X_SOURCE_DIR, TRAINING_X_DIR, TESTING_X_DIR, split_size)\n",
        "split_data(Y_SOURCE_DIR, TRAINING_Y_DIR, TESTING_Y_DIR, split_size)"
      ],
      "execution_count": 7,
      "outputs": []
    },
    {
      "cell_type": "code",
      "metadata": {
        "colab": {
          "base_uri": "https://localhost:8080/"
        },
        "id": "zYnm2NoE2LFP",
        "outputId": "ecea97f0-a02f-493e-f00a-d85913e027b9"
      },
      "source": [
        "print(len(os.listdir('/tmp/dataset_hsxy/training/health/')))\n",
        "print(len(os.listdir('/tmp/dataset_hsxy/training/s/')))\n",
        "print(len(os.listdir('/tmp/dataset_hsxy/training/x/')))\n",
        "print(len(os.listdir('/tmp/dataset_hsxy/training/y/')))\n",
        "print(len(os.listdir('/tmp/dataset_hsxy/testing/health/')))\n",
        "print(len(os.listdir('/tmp/dataset_hsxy/testing/s/')))\n",
        "print(len(os.listdir('/tmp/dataset_hsxy/testing/x/')))\n",
        "print(len(os.listdir('/tmp/dataset_hsxy/testing/y/')))"
      ],
      "execution_count": 8,
      "outputs": [
        {
          "output_type": "stream",
          "text": [
            "80\n",
            "5\n",
            "9\n",
            "11\n",
            "20\n",
            "2\n",
            "3\n",
            "3\n"
          ],
          "name": "stdout"
        }
      ]
    },
    {
      "cell_type": "markdown",
      "metadata": {
        "id": "MoSfVzCgHZEH"
      },
      "source": [
        "# Augmentation"
      ]
    },
    {
      "cell_type": "code",
      "metadata": {
        "id": "PW77-HJB2ryU",
        "colab": {
          "base_uri": "https://localhost:8080/"
        },
        "outputId": "3b692f4e-bfd7-469f-8691-69710ddbbb5c"
      },
      "source": [
        "TRAINING_DIR = \"/tmp/dataset_hsxy/training/\"\n",
        "\n",
        "train_datagen = ImageDataGenerator(rescale=1./255,\n",
        "      rotation_range=40,\n",
        "      width_shift_range=0.2,\n",
        "      height_shift_range=0.2,\n",
        "      shear_range=0.2,\n",
        "      zoom_range=0.2,\n",
        "      horizontal_flip=True,\n",
        "      fill_mode='nearest')\n",
        "train_generator = train_datagen.flow_from_directory(TRAINING_DIR,\n",
        "                                                    batch_size=100,\n",
        "                                                    class_mode='sparse',\n",
        "                                                    target_size=(150, 150))\n",
        "\n",
        "VALIDATION_DIR = \"/tmp/dataset_hsxy/testing/\"\n",
        "\n",
        "validation_datagen = ImageDataGenerator(rescale=1./255)\n",
        "validation_generator = validation_datagen.flow_from_directory(VALIDATION_DIR,\n",
        "                                                              batch_size=100,\n",
        "                                                              class_mode='sparse',\n",
        "                                                              target_size=(150, 150))"
      ],
      "execution_count": 9,
      "outputs": [
        {
          "output_type": "stream",
          "text": [
            "Found 105 images belonging to 4 classes.\n",
            "Found 28 images belonging to 4 classes.\n"
          ],
          "name": "stdout"
        }
      ]
    },
    {
      "cell_type": "markdown",
      "metadata": {
        "id": "Vh3PSgNdHgJX"
      },
      "source": [
        "#  Train"
      ]
    },
    {
      "cell_type": "code",
      "metadata": {
        "id": "g3-xO5g6t_7n",
        "colab": {
          "base_uri": "https://localhost:8080/"
        },
        "outputId": "ce3d7b10-8472-4ae1-ff40-7bc32fe6a562"
      },
      "source": [
        "model = tf.keras.Sequential([\n",
        "    tf.keras.layers.Conv2D(64, (3,3), activation='relu', input_shape=(150, 150, 3)),\n",
        "    tf.keras.layers.MaxPooling2D(),\n",
        "    tf.keras.layers.Conv2D(64, (3,3), activation='relu'),\n",
        "    tf.keras.layers.MaxPooling2D(),\n",
        "    tf.keras.layers.Flatten(),\n",
        "    tf.keras.layers.Dense(512, activation='relu'),\n",
        "    tf.keras.layers.Dense(4, activation='softmax')])\n",
        "\n",
        "model.compile(optimizer='adam',\n",
        "              loss='sparse_categorical_crossentropy',\n",
        "              metrics=['acc'])"
      ],
      "execution_count": 10,
      "outputs": [
        {
          "output_type": "stream",
          "text": [
            "WARNING:tensorflow:From /tensorflow-1.15.2/python3.7/tensorflow_core/python/ops/resource_variable_ops.py:1630: calling BaseResourceVariable.__init__ (from tensorflow.python.ops.resource_variable_ops) with constraint is deprecated and will be removed in a future version.\n",
            "Instructions for updating:\n",
            "If using Keras pass *_constraint arguments to layers.\n"
          ],
          "name": "stdout"
        }
      ]
    },
    {
      "cell_type": "code",
      "metadata": {
        "colab": {
          "base_uri": "https://localhost:8080/",
          "height": 1000
        },
        "id": "bwNRxN7OuAEm",
        "outputId": "eb19fe7d-9167-4fad-b420-82b246b45782"
      },
      "source": [
        "history = model.fit(train_generator, \n",
        "                    epochs=10, \n",
        "                    validation_data=validation_generator)\n",
        "\n",
        "import matplotlib.pyplot as plt\n",
        "acc = history.history['acc']\n",
        "val_acc = history.history['val_acc']\n",
        "loss = history.history['loss']\n",
        "val_loss = history.history['val_loss']\n",
        "\n",
        "epochs = range(len(acc))\n",
        "\n",
        "plt.plot(epochs, acc, 'r', label='Training accuracy')\n",
        "plt.plot(epochs, val_acc, 'b', label='Validation accuracy')\n",
        "plt.title('Training and validation accuracy')\n",
        "plt.legend()\n",
        "plt.figure()\n",
        "\n",
        "plt.plot(epochs, loss, 'r', label='Training Loss')\n",
        "plt.plot(epochs, val_loss, 'b', label='Validation Loss')\n",
        "plt.title('Training and validation loss')\n",
        "plt.legend()\n",
        "\n",
        "plt.show()"
      ],
      "execution_count": 11,
      "outputs": [
        {
          "output_type": "stream",
          "text": [
            "Epoch 1/10\n",
            "1/2 [==============>...............] - ETA: 2s - loss: 1.3876 - acc: 0.2000Epoch 1/10\n",
            "2/2 [==============================] - 10s 5s/step - loss: 7.9291 - acc: 0.0762 - val_loss: 9.0650 - val_acc: 0.7143\n",
            "Epoch 2/10\n",
            "1/2 [==============>...............] - ETA: 0s - loss: 5.9819 - acc: 0.8000Epoch 1/10\n",
            "2/2 [==============================] - 7s 4s/step - loss: 6.9759 - acc: 0.7619 - val_loss: 5.0028 - val_acc: 0.7143\n",
            "Epoch 3/10\n",
            "1/2 [==============>...............] - ETA: 0s - loss: 4.4864 - acc: 0.8000Epoch 1/10\n",
            "2/2 [==============================] - 7s 4s/step - loss: 3.2104 - acc: 0.7619 - val_loss: 1.3115 - val_acc: 0.7143\n",
            "Epoch 4/10\n",
            "1/2 [==============>...............] - ETA: 5s - loss: 1.1986 - acc: 0.7800Epoch 1/10\n",
            "2/2 [==============================] - 7s 4s/step - loss: 1.1239 - acc: 0.7619 - val_loss: 1.3263 - val_acc: 0.1071\n",
            "Epoch 5/10\n",
            "1/2 [==============>...............] - ETA: 1s - loss: 1.4787 - acc: 0.0000e+00Epoch 1/10\n",
            "2/2 [==============================] - 7s 4s/step - loss: 1.4096 - acc: 0.1048 - val_loss: 1.3864 - val_acc: 0.1071\n",
            "Epoch 6/10\n",
            "1/2 [==============>...............] - ETA: 5s - loss: 1.3862 - acc: 0.1100Epoch 1/10\n",
            "2/2 [==============================] - 7s 4s/step - loss: 1.3843 - acc: 0.1048 - val_loss: 1.3790 - val_acc: 0.4286\n",
            "Epoch 7/10\n",
            "1/2 [==============>...............] - ETA: 5s - loss: 1.3801 - acc: 0.5600Epoch 1/10\n",
            "2/2 [==============================] - 7s 4s/step - loss: 1.3805 - acc: 0.5619 - val_loss: 1.3698 - val_acc: 0.7500\n",
            "Epoch 8/10\n",
            "1/2 [==============>...............] - ETA: 5s - loss: 1.3719 - acc: 0.7700Epoch 1/10\n",
            "2/2 [==============================] - 7s 4s/step - loss: 1.3713 - acc: 0.7714 - val_loss: 1.3551 - val_acc: 0.7857\n",
            "Epoch 9/10\n",
            "1/2 [==============>...............] - ETA: 0s - loss: 1.3620 - acc: 0.6000Epoch 1/10\n",
            "2/2 [==============================] - 7s 4s/step - loss: 1.3526 - acc: 0.7810 - val_loss: 1.3232 - val_acc: 0.6071\n",
            "Epoch 10/10\n",
            "1/2 [==============>...............] - ETA: 5s - loss: 1.3314 - acc: 0.7600Epoch 1/10\n",
            "2/2 [==============================] - 7s 4s/step - loss: 1.3114 - acc: 0.7619 - val_loss: 0.9753 - val_acc: 0.7500\n"
          ],
          "name": "stdout"
        },
        {
          "output_type": "display_data",
          "data": {
            "image/png": "[encoded data removed]",
            "text/plain": [
              "<Figure size 432x288 with 1 Axes>"
            ]
          },
          "metadata": {
            "tags": [],
            "needs_background": "light"
          }
        },
        {
          "output_type": "display_data",
          "data": {
            "image/png": "[encoded data removed]",
            "text/plain": [
              "<Figure size 432x288 with 1 Axes>"
            ]
          },
          "metadata": {
            "tags": [],
            "needs_background": "light"
          }
        }
      ]
    },
    {
      "cell_type": "markdown",
      "metadata": {
        "id": "OLE75TX7Hi3H"
      },
      "source": [
        "# Convert to TFLite"
      ]
    },
    {
      "cell_type": "code",
      "metadata": {
        "colab": {
          "base_uri": "https://localhost:8080/"
        },
        "id": "aL8KKxMV8B8C",
        "outputId": "5fccb95c-92a3-42c3-d10f-383db2945343"
      },
      "source": [
        "saved_keras_model = './model.h5'\n",
        "model.save(saved_keras_model)\n",
        "\n",
        "# actual conversion\n",
        "converter = tf.lite.TFLiteConverter.from_keras_model_file('./model.h5')\n",
        "\n",
        "# save model\n",
        "tflite_model = converter.convert()\n",
        "open('model.tflite', 'wb').write(tflite_model)"
      ],
      "execution_count": 12,
      "outputs": [
        {
          "output_type": "stream",
          "text": [
            "WARNING:tensorflow:From /tensorflow-1.15.2/python3.7/tensorflow_core/python/ops/init_ops.py:97: calling GlorotUniform.__init__ (from tensorflow.python.ops.init_ops) with dtype is deprecated and will be removed in a future version.\n",
            "Instructions for updating:\n",
            "Call initializer instance with the dtype argument instead of passing it to the constructor\n",
            "WARNING:tensorflow:From /tensorflow-1.15.2/python3.7/tensorflow_core/python/ops/init_ops.py:97: calling Zeros.__init__ (from tensorflow.python.ops.init_ops) with dtype is deprecated and will be removed in a future version.\n",
            "Instructions for updating:\n",
            "Call initializer instance with the dtype argument instead of passing it to the constructor\n",
            "WARNING:tensorflow:From /tensorflow-1.15.2/python3.7/tensorflow_core/lite/python/util.py:249: convert_variables_to_constants (from tensorflow.python.framework.graph_util_impl) is deprecated and will be removed in a future version.\n",
            "Instructions for updating:\n",
            "Use `tf.compat.v1.graph_util.convert_variables_to_constants`\n",
            "WARNING:tensorflow:From /tensorflow-1.15.2/python3.7/tensorflow_core/python/framework/graph_util_impl.py:277: extract_sub_graph (from tensorflow.python.framework.graph_util_impl) is deprecated and will be removed in a future version.\n",
            "Instructions for updating:\n",
            "Use `tf.compat.v1.graph_util.extract_sub_graph`\n",
            "INFO:tensorflow:Froze 8 variables.\n",
            "INFO:tensorflow:Converted 8 variables to const ops.\n"
          ],
          "name": "stdout"
        },
        {
          "output_type": "execute_result",
          "data": {
            "text/plain": [
              "170036608"
            ]
          },
          "metadata": {
            "tags": []
          },
          "execution_count": 12
        }
      ]
    },
    {
      "cell_type": "markdown",
      "metadata": {
        "id": "i5GLojTMI9Wv"
      },
      "source": [
        "# make .txt"
      ]
    },
    {
      "cell_type": "code",
      "metadata": {
        "id": "v6BPpb_7JIAn"
      },
      "source": [
        "f = open(\"./label.txt\",\"w+\")\n",
        "f.write(\"health\\nx\\ny\\ns\")\n",
        "f.close() "
      ],
      "execution_count": 13,
      "outputs": []
    }
  ]
}